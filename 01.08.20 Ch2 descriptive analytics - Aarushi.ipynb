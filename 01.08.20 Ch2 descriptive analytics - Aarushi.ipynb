{
 "cells": [
  {
   "cell_type": "markdown",
   "metadata": {},
   "source": [
    "#### 01.08.20 Ch2 descriptive analytics - Aarushi"
   ]
  },
  {
   "cell_type": "markdown",
   "metadata": {},
   "source": [
    "### Working with dataframe"
   ]
  },
  {
   "cell_type": "code",
   "execution_count": 1,
   "metadata": {},
   "outputs": [],
   "source": [
    "import pandas as pd"
   ]
  },
  {
   "cell_type": "code",
   "execution_count": 2,
   "metadata": {},
   "outputs": [],
   "source": [
    "#optional\n",
    "pd.set_option('display.float_format', lambda x: '%.3f' % x)"
   ]
  },
  {
   "cell_type": "code",
   "execution_count": 6,
   "metadata": {},
   "outputs": [],
   "source": [
    "pd.read_csv?\n",
    "#gives info on the command"
   ]
  },
  {
   "cell_type": "code",
   "execution_count": 14,
   "metadata": {
    "scrolled": true
   },
   "outputs": [],
   "source": [
    "ipl_auction_df = pd.read_csv( 'IPL.csv' )"
   ]
  },
  {
   "cell_type": "code",
   "execution_count": 13,
   "metadata": {},
   "outputs": [
    {
     "data": {
      "text/plain": [
       "'C:\\\\Users\\\\Aarushi\\\\MLAP Jupyter folder'"
      ]
     },
     "execution_count": 13,
     "metadata": {},
     "output_type": "execute_result"
    }
   ],
   "source": [
    "pwd"
   ]
  },
  {
   "cell_type": "code",
   "execution_count": 15,
   "metadata": {},
   "outputs": [
    {
     "data": {
      "text/plain": [
       "pandas.core.frame.DataFrame"
      ]
     },
     "execution_count": 15,
     "metadata": {},
     "output_type": "execute_result"
    }
   ],
   "source": [
    "type(ipl_auction_df)"
   ]
  },
  {
   "cell_type": "markdown",
   "metadata": {},
   "source": [
    "### Displaying first few records of the DataFrame"
   ]
  },
  {
   "cell_type": "code",
   "execution_count": 16,
   "metadata": {},
   "outputs": [],
   "source": [
    "pd.set_option('display.max_columns', 7)"
   ]
  },
  {
   "cell_type": "code",
   "execution_count": 17,
   "metadata": {},
   "outputs": [
    {
     "data": {
      "text/html": [
       "<div>\n",
       "<style scoped>\n",
       "    .dataframe tbody tr th:only-of-type {\n",
       "        vertical-align: middle;\n",
       "    }\n",
       "\n",
       "    .dataframe tbody tr th {\n",
       "        vertical-align: top;\n",
       "    }\n",
       "\n",
       "    .dataframe thead th {\n",
       "        text-align: right;\n",
       "    }\n",
       "</style>\n",
       "<table border=\"1\" class=\"dataframe\">\n",
       "  <thead>\n",
       "    <tr style=\"text-align: right;\">\n",
       "      <th></th>\n",
       "      <th>Sl.NO.</th>\n",
       "      <th>PLAYER NAME</th>\n",
       "      <th>AGE</th>\n",
       "      <th>...</th>\n",
       "      <th>AUCTION YEAR</th>\n",
       "      <th>BASE PRICE</th>\n",
       "      <th>SOLD PRICE</th>\n",
       "    </tr>\n",
       "  </thead>\n",
       "  <tbody>\n",
       "    <tr>\n",
       "      <th>0</th>\n",
       "      <td>1</td>\n",
       "      <td>Abdulla, YA</td>\n",
       "      <td>2</td>\n",
       "      <td>...</td>\n",
       "      <td>2009</td>\n",
       "      <td>50000</td>\n",
       "      <td>50000</td>\n",
       "    </tr>\n",
       "    <tr>\n",
       "      <th>1</th>\n",
       "      <td>2</td>\n",
       "      <td>Abdur Razzak</td>\n",
       "      <td>2</td>\n",
       "      <td>...</td>\n",
       "      <td>2008</td>\n",
       "      <td>50000</td>\n",
       "      <td>50000</td>\n",
       "    </tr>\n",
       "    <tr>\n",
       "      <th>2</th>\n",
       "      <td>3</td>\n",
       "      <td>Agarkar, AB</td>\n",
       "      <td>2</td>\n",
       "      <td>...</td>\n",
       "      <td>2008</td>\n",
       "      <td>200000</td>\n",
       "      <td>350000</td>\n",
       "    </tr>\n",
       "    <tr>\n",
       "      <th>3</th>\n",
       "      <td>4</td>\n",
       "      <td>Ashwin, R</td>\n",
       "      <td>1</td>\n",
       "      <td>...</td>\n",
       "      <td>2011</td>\n",
       "      <td>100000</td>\n",
       "      <td>850000</td>\n",
       "    </tr>\n",
       "    <tr>\n",
       "      <th>4</th>\n",
       "      <td>5</td>\n",
       "      <td>Badrinath, S</td>\n",
       "      <td>2</td>\n",
       "      <td>...</td>\n",
       "      <td>2011</td>\n",
       "      <td>100000</td>\n",
       "      <td>800000</td>\n",
       "    </tr>\n",
       "  </tbody>\n",
       "</table>\n",
       "<p>5 rows × 26 columns</p>\n",
       "</div>"
      ],
      "text/plain": [
       "   Sl.NO.   PLAYER NAME  AGE  ... AUCTION YEAR BASE PRICE SOLD PRICE\n",
       "0       1   Abdulla, YA    2  ...         2009      50000      50000\n",
       "1       2  Abdur Razzak    2  ...         2008      50000      50000\n",
       "2       3   Agarkar, AB    2  ...         2008     200000     350000\n",
       "3       4     Ashwin, R    1  ...         2011     100000     850000\n",
       "4       5  Badrinath, S    2  ...         2011     100000     800000\n",
       "\n",
       "[5 rows x 26 columns]"
      ]
     },
     "execution_count": 17,
     "metadata": {},
     "output_type": "execute_result"
    }
   ],
   "source": [
    "ipl_auction_df.head(5)"
   ]
  },
  {
   "cell_type": "markdown",
   "metadata": {},
   "source": [
    "### Finding metadata of the DataFrame"
   ]
  },
  {
   "cell_type": "code",
   "execution_count": 18,
   "metadata": {},
   "outputs": [
    {
     "data": {
      "text/plain": [
       "['Sl.NO.',\n",
       " 'PLAYER NAME',\n",
       " 'AGE',\n",
       " 'COUNTRY',\n",
       " 'TEAM',\n",
       " 'PLAYING ROLE',\n",
       " 'T-RUNS',\n",
       " 'T-WKTS',\n",
       " 'ODI-RUNS-S',\n",
       " 'ODI-SR-B',\n",
       " 'ODI-WKTS',\n",
       " 'ODI-SR-BL',\n",
       " 'CAPTAINCY EXP',\n",
       " 'RUNS-S',\n",
       " 'HS',\n",
       " 'AVE',\n",
       " 'SR-B',\n",
       " 'SIXERS',\n",
       " 'RUNS-C',\n",
       " 'WKTS',\n",
       " 'AVE-BL',\n",
       " 'ECON',\n",
       " 'SR-BL',\n",
       " 'AUCTION YEAR',\n",
       " 'BASE PRICE',\n",
       " 'SOLD PRICE']"
      ]
     },
     "execution_count": 18,
     "metadata": {},
     "output_type": "execute_result"
    }
   ],
   "source": [
    "list(ipl_auction_df.columns)"
   ]
  },
  {
   "cell_type": "code",
   "execution_count": 19,
   "metadata": {},
   "outputs": [
    {
     "data": {
      "text/html": [
       "<div>\n",
       "<style scoped>\n",
       "    .dataframe tbody tr th:only-of-type {\n",
       "        vertical-align: middle;\n",
       "    }\n",
       "\n",
       "    .dataframe tbody tr th {\n",
       "        vertical-align: top;\n",
       "    }\n",
       "\n",
       "    .dataframe thead th {\n",
       "        text-align: right;\n",
       "    }\n",
       "</style>\n",
       "<table border=\"1\" class=\"dataframe\">\n",
       "  <thead>\n",
       "    <tr style=\"text-align: right;\">\n",
       "      <th></th>\n",
       "      <th>0</th>\n",
       "      <th>1</th>\n",
       "      <th>2</th>\n",
       "      <th>3</th>\n",
       "      <th>4</th>\n",
       "    </tr>\n",
       "  </thead>\n",
       "  <tbody>\n",
       "    <tr>\n",
       "      <th>Sl.NO.</th>\n",
       "      <td>1</td>\n",
       "      <td>2</td>\n",
       "      <td>3</td>\n",
       "      <td>4</td>\n",
       "      <td>5</td>\n",
       "    </tr>\n",
       "    <tr>\n",
       "      <th>PLAYER NAME</th>\n",
       "      <td>Abdulla, YA</td>\n",
       "      <td>Abdur Razzak</td>\n",
       "      <td>Agarkar, AB</td>\n",
       "      <td>Ashwin, R</td>\n",
       "      <td>Badrinath, S</td>\n",
       "    </tr>\n",
       "    <tr>\n",
       "      <th>AGE</th>\n",
       "      <td>2</td>\n",
       "      <td>2</td>\n",
       "      <td>2</td>\n",
       "      <td>1</td>\n",
       "      <td>2</td>\n",
       "    </tr>\n",
       "    <tr>\n",
       "      <th>COUNTRY</th>\n",
       "      <td>SA</td>\n",
       "      <td>BAN</td>\n",
       "      <td>IND</td>\n",
       "      <td>IND</td>\n",
       "      <td>IND</td>\n",
       "    </tr>\n",
       "    <tr>\n",
       "      <th>TEAM</th>\n",
       "      <td>KXIP</td>\n",
       "      <td>RCB</td>\n",
       "      <td>KKR</td>\n",
       "      <td>CSK</td>\n",
       "      <td>CSK</td>\n",
       "    </tr>\n",
       "    <tr>\n",
       "      <th>PLAYING ROLE</th>\n",
       "      <td>Allrounder</td>\n",
       "      <td>Bowler</td>\n",
       "      <td>Bowler</td>\n",
       "      <td>Bowler</td>\n",
       "      <td>Batsman</td>\n",
       "    </tr>\n",
       "    <tr>\n",
       "      <th>T-RUNS</th>\n",
       "      <td>0</td>\n",
       "      <td>214</td>\n",
       "      <td>571</td>\n",
       "      <td>284</td>\n",
       "      <td>63</td>\n",
       "    </tr>\n",
       "    <tr>\n",
       "      <th>T-WKTS</th>\n",
       "      <td>0</td>\n",
       "      <td>18</td>\n",
       "      <td>58</td>\n",
       "      <td>31</td>\n",
       "      <td>0</td>\n",
       "    </tr>\n",
       "    <tr>\n",
       "      <th>ODI-RUNS-S</th>\n",
       "      <td>0</td>\n",
       "      <td>657</td>\n",
       "      <td>1269</td>\n",
       "      <td>241</td>\n",
       "      <td>79</td>\n",
       "    </tr>\n",
       "    <tr>\n",
       "      <th>ODI-SR-B</th>\n",
       "      <td>0.000</td>\n",
       "      <td>71.410</td>\n",
       "      <td>80.620</td>\n",
       "      <td>84.560</td>\n",
       "      <td>45.930</td>\n",
       "    </tr>\n",
       "    <tr>\n",
       "      <th>ODI-WKTS</th>\n",
       "      <td>0</td>\n",
       "      <td>185</td>\n",
       "      <td>288</td>\n",
       "      <td>51</td>\n",
       "      <td>0</td>\n",
       "    </tr>\n",
       "    <tr>\n",
       "      <th>ODI-SR-BL</th>\n",
       "      <td>0.000</td>\n",
       "      <td>37.600</td>\n",
       "      <td>32.900</td>\n",
       "      <td>36.800</td>\n",
       "      <td>0.000</td>\n",
       "    </tr>\n",
       "    <tr>\n",
       "      <th>CAPTAINCY EXP</th>\n",
       "      <td>0</td>\n",
       "      <td>0</td>\n",
       "      <td>0</td>\n",
       "      <td>0</td>\n",
       "      <td>0</td>\n",
       "    </tr>\n",
       "    <tr>\n",
       "      <th>RUNS-S</th>\n",
       "      <td>0</td>\n",
       "      <td>0</td>\n",
       "      <td>167</td>\n",
       "      <td>58</td>\n",
       "      <td>1317</td>\n",
       "    </tr>\n",
       "    <tr>\n",
       "      <th>HS</th>\n",
       "      <td>0</td>\n",
       "      <td>0</td>\n",
       "      <td>39</td>\n",
       "      <td>11</td>\n",
       "      <td>71</td>\n",
       "    </tr>\n",
       "    <tr>\n",
       "      <th>AVE</th>\n",
       "      <td>0.000</td>\n",
       "      <td>0.000</td>\n",
       "      <td>18.560</td>\n",
       "      <td>5.800</td>\n",
       "      <td>32.930</td>\n",
       "    </tr>\n",
       "    <tr>\n",
       "      <th>SR-B</th>\n",
       "      <td>0.000</td>\n",
       "      <td>0.000</td>\n",
       "      <td>121.010</td>\n",
       "      <td>76.320</td>\n",
       "      <td>120.710</td>\n",
       "    </tr>\n",
       "    <tr>\n",
       "      <th>SIXERS</th>\n",
       "      <td>0</td>\n",
       "      <td>0</td>\n",
       "      <td>5</td>\n",
       "      <td>0</td>\n",
       "      <td>28</td>\n",
       "    </tr>\n",
       "    <tr>\n",
       "      <th>RUNS-C</th>\n",
       "      <td>307</td>\n",
       "      <td>29</td>\n",
       "      <td>1059</td>\n",
       "      <td>1125</td>\n",
       "      <td>0</td>\n",
       "    </tr>\n",
       "    <tr>\n",
       "      <th>WKTS</th>\n",
       "      <td>15</td>\n",
       "      <td>0</td>\n",
       "      <td>29</td>\n",
       "      <td>49</td>\n",
       "      <td>0</td>\n",
       "    </tr>\n",
       "    <tr>\n",
       "      <th>AVE-BL</th>\n",
       "      <td>20.470</td>\n",
       "      <td>0.000</td>\n",
       "      <td>36.520</td>\n",
       "      <td>22.960</td>\n",
       "      <td>0.000</td>\n",
       "    </tr>\n",
       "    <tr>\n",
       "      <th>ECON</th>\n",
       "      <td>8.900</td>\n",
       "      <td>14.500</td>\n",
       "      <td>8.810</td>\n",
       "      <td>6.230</td>\n",
       "      <td>0.000</td>\n",
       "    </tr>\n",
       "    <tr>\n",
       "      <th>SR-BL</th>\n",
       "      <td>13.930</td>\n",
       "      <td>0.000</td>\n",
       "      <td>24.900</td>\n",
       "      <td>22.140</td>\n",
       "      <td>0.000</td>\n",
       "    </tr>\n",
       "    <tr>\n",
       "      <th>AUCTION YEAR</th>\n",
       "      <td>2009</td>\n",
       "      <td>2008</td>\n",
       "      <td>2008</td>\n",
       "      <td>2011</td>\n",
       "      <td>2011</td>\n",
       "    </tr>\n",
       "    <tr>\n",
       "      <th>BASE PRICE</th>\n",
       "      <td>50000</td>\n",
       "      <td>50000</td>\n",
       "      <td>200000</td>\n",
       "      <td>100000</td>\n",
       "      <td>100000</td>\n",
       "    </tr>\n",
       "    <tr>\n",
       "      <th>SOLD PRICE</th>\n",
       "      <td>50000</td>\n",
       "      <td>50000</td>\n",
       "      <td>350000</td>\n",
       "      <td>850000</td>\n",
       "      <td>800000</td>\n",
       "    </tr>\n",
       "  </tbody>\n",
       "</table>\n",
       "</div>"
      ],
      "text/plain": [
       "                         0             1            2          3             4\n",
       "Sl.NO.                   1             2            3          4             5\n",
       "PLAYER NAME    Abdulla, YA  Abdur Razzak  Agarkar, AB  Ashwin, R  Badrinath, S\n",
       "AGE                      2             2            2          1             2\n",
       "COUNTRY                 SA           BAN          IND        IND           IND\n",
       "TEAM                  KXIP           RCB          KKR        CSK           CSK\n",
       "PLAYING ROLE    Allrounder        Bowler       Bowler     Bowler       Batsman\n",
       "T-RUNS                   0           214          571        284            63\n",
       "T-WKTS                   0            18           58         31             0\n",
       "ODI-RUNS-S               0           657         1269        241            79\n",
       "ODI-SR-B             0.000        71.410       80.620     84.560        45.930\n",
       "ODI-WKTS                 0           185          288         51             0\n",
       "ODI-SR-BL            0.000        37.600       32.900     36.800         0.000\n",
       "CAPTAINCY EXP            0             0            0          0             0\n",
       "RUNS-S                   0             0          167         58          1317\n",
       "HS                       0             0           39         11            71\n",
       "AVE                  0.000         0.000       18.560      5.800        32.930\n",
       "SR-B                 0.000         0.000      121.010     76.320       120.710\n",
       "SIXERS                   0             0            5          0            28\n",
       "RUNS-C                 307            29         1059       1125             0\n",
       "WKTS                    15             0           29         49             0\n",
       "AVE-BL              20.470         0.000       36.520     22.960         0.000\n",
       "ECON                 8.900        14.500        8.810      6.230         0.000\n",
       "SR-BL               13.930         0.000       24.900     22.140         0.000\n",
       "AUCTION YEAR          2009          2008         2008       2011          2011\n",
       "BASE PRICE           50000         50000       200000     100000        100000\n",
       "SOLD PRICE           50000         50000       350000     850000        800000"
      ]
     },
     "execution_count": 19,
     "metadata": {},
     "output_type": "execute_result"
    }
   ],
   "source": [
    "ipl_auction_df.head(5).transpose()"
   ]
  },
  {
   "cell_type": "code",
   "execution_count": 20,
   "metadata": {},
   "outputs": [
    {
     "data": {
      "text/plain": [
       "(130, 26)"
      ]
     },
     "execution_count": 20,
     "metadata": {},
     "output_type": "execute_result"
    }
   ],
   "source": [
    "ipl_auction_df.shape"
   ]
  },
  {
   "cell_type": "code",
   "execution_count": 21,
   "metadata": {},
   "outputs": [
    {
     "name": "stdout",
     "output_type": "stream",
     "text": [
      "<class 'pandas.core.frame.DataFrame'>\n",
      "RangeIndex: 130 entries, 0 to 129\n",
      "Data columns (total 26 columns):\n",
      " #   Column         Non-Null Count  Dtype  \n",
      "---  ------         --------------  -----  \n",
      " 0   Sl.NO.         130 non-null    int64  \n",
      " 1   PLAYER NAME    130 non-null    object \n",
      " 2   AGE            130 non-null    int64  \n",
      " 3   COUNTRY        130 non-null    object \n",
      " 4   TEAM           130 non-null    object \n",
      " 5   PLAYING ROLE   130 non-null    object \n",
      " 6   T-RUNS         130 non-null    int64  \n",
      " 7   T-WKTS         130 non-null    int64  \n",
      " 8   ODI-RUNS-S     130 non-null    int64  \n",
      " 9   ODI-SR-B       130 non-null    float64\n",
      " 10  ODI-WKTS       130 non-null    int64  \n",
      " 11  ODI-SR-BL      130 non-null    float64\n",
      " 12  CAPTAINCY EXP  130 non-null    int64  \n",
      " 13  RUNS-S         130 non-null    int64  \n",
      " 14  HS             130 non-null    int64  \n",
      " 15  AVE            130 non-null    float64\n",
      " 16  SR-B           130 non-null    float64\n",
      " 17  SIXERS         130 non-null    int64  \n",
      " 18  RUNS-C         130 non-null    int64  \n",
      " 19  WKTS           130 non-null    int64  \n",
      " 20  AVE-BL         130 non-null    float64\n",
      " 21  ECON           130 non-null    float64\n",
      " 22  SR-BL          130 non-null    float64\n",
      " 23  AUCTION YEAR   130 non-null    int64  \n",
      " 24  BASE PRICE     130 non-null    int64  \n",
      " 25  SOLD PRICE     130 non-null    int64  \n",
      "dtypes: float64(7), int64(15), object(4)\n",
      "memory usage: 26.5+ KB\n"
     ]
    }
   ],
   "source": [
    "ipl_auction_df.info()"
   ]
  },
  {
   "cell_type": "markdown",
   "metadata": {},
   "source": [
    "### Slicing and Indexing a dataframe"
   ]
  },
  {
   "cell_type": "markdown",
   "metadata": {},
   "source": [
    "#### Selecting Rows by Indexes"
   ]
  },
  {
   "cell_type": "code",
   "execution_count": 22,
   "metadata": {},
   "outputs": [
    {
     "data": {
      "text/html": [
       "<div>\n",
       "<style scoped>\n",
       "    .dataframe tbody tr th:only-of-type {\n",
       "        vertical-align: middle;\n",
       "    }\n",
       "\n",
       "    .dataframe tbody tr th {\n",
       "        vertical-align: top;\n",
       "    }\n",
       "\n",
       "    .dataframe thead th {\n",
       "        text-align: right;\n",
       "    }\n",
       "</style>\n",
       "<table border=\"1\" class=\"dataframe\">\n",
       "  <thead>\n",
       "    <tr style=\"text-align: right;\">\n",
       "      <th></th>\n",
       "      <th>Sl.NO.</th>\n",
       "      <th>PLAYER NAME</th>\n",
       "      <th>AGE</th>\n",
       "      <th>...</th>\n",
       "      <th>AUCTION YEAR</th>\n",
       "      <th>BASE PRICE</th>\n",
       "      <th>SOLD PRICE</th>\n",
       "    </tr>\n",
       "  </thead>\n",
       "  <tbody>\n",
       "    <tr>\n",
       "      <th>0</th>\n",
       "      <td>1</td>\n",
       "      <td>Abdulla, YA</td>\n",
       "      <td>2</td>\n",
       "      <td>...</td>\n",
       "      <td>2009</td>\n",
       "      <td>50000</td>\n",
       "      <td>50000</td>\n",
       "    </tr>\n",
       "    <tr>\n",
       "      <th>1</th>\n",
       "      <td>2</td>\n",
       "      <td>Abdur Razzak</td>\n",
       "      <td>2</td>\n",
       "      <td>...</td>\n",
       "      <td>2008</td>\n",
       "      <td>50000</td>\n",
       "      <td>50000</td>\n",
       "    </tr>\n",
       "    <tr>\n",
       "      <th>2</th>\n",
       "      <td>3</td>\n",
       "      <td>Agarkar, AB</td>\n",
       "      <td>2</td>\n",
       "      <td>...</td>\n",
       "      <td>2008</td>\n",
       "      <td>200000</td>\n",
       "      <td>350000</td>\n",
       "    </tr>\n",
       "    <tr>\n",
       "      <th>3</th>\n",
       "      <td>4</td>\n",
       "      <td>Ashwin, R</td>\n",
       "      <td>1</td>\n",
       "      <td>...</td>\n",
       "      <td>2011</td>\n",
       "      <td>100000</td>\n",
       "      <td>850000</td>\n",
       "    </tr>\n",
       "    <tr>\n",
       "      <th>4</th>\n",
       "      <td>5</td>\n",
       "      <td>Badrinath, S</td>\n",
       "      <td>2</td>\n",
       "      <td>...</td>\n",
       "      <td>2011</td>\n",
       "      <td>100000</td>\n",
       "      <td>800000</td>\n",
       "    </tr>\n",
       "  </tbody>\n",
       "</table>\n",
       "<p>5 rows × 26 columns</p>\n",
       "</div>"
      ],
      "text/plain": [
       "   Sl.NO.   PLAYER NAME  AGE  ... AUCTION YEAR BASE PRICE SOLD PRICE\n",
       "0       1   Abdulla, YA    2  ...         2009      50000      50000\n",
       "1       2  Abdur Razzak    2  ...         2008      50000      50000\n",
       "2       3   Agarkar, AB    2  ...         2008     200000     350000\n",
       "3       4     Ashwin, R    1  ...         2011     100000     850000\n",
       "4       5  Badrinath, S    2  ...         2011     100000     800000\n",
       "\n",
       "[5 rows x 26 columns]"
      ]
     },
     "execution_count": 22,
     "metadata": {},
     "output_type": "execute_result"
    }
   ],
   "source": [
    "ipl_auction_df[0:5]"
   ]
  },
  {
   "cell_type": "code",
   "execution_count": 23,
   "metadata": {},
   "outputs": [
    {
     "data": {
      "text/html": [
       "<div>\n",
       "<style scoped>\n",
       "    .dataframe tbody tr th:only-of-type {\n",
       "        vertical-align: middle;\n",
       "    }\n",
       "\n",
       "    .dataframe tbody tr th {\n",
       "        vertical-align: top;\n",
       "    }\n",
       "\n",
       "    .dataframe thead th {\n",
       "        text-align: right;\n",
       "    }\n",
       "</style>\n",
       "<table border=\"1\" class=\"dataframe\">\n",
       "  <thead>\n",
       "    <tr style=\"text-align: right;\">\n",
       "      <th></th>\n",
       "      <th>Sl.NO.</th>\n",
       "      <th>PLAYER NAME</th>\n",
       "      <th>AGE</th>\n",
       "      <th>...</th>\n",
       "      <th>AUCTION YEAR</th>\n",
       "      <th>BASE PRICE</th>\n",
       "      <th>SOLD PRICE</th>\n",
       "    </tr>\n",
       "  </thead>\n",
       "  <tbody>\n",
       "    <tr>\n",
       "      <th>125</th>\n",
       "      <td>126</td>\n",
       "      <td>Yadav, AS</td>\n",
       "      <td>2</td>\n",
       "      <td>...</td>\n",
       "      <td>2010</td>\n",
       "      <td>50000</td>\n",
       "      <td>750000</td>\n",
       "    </tr>\n",
       "    <tr>\n",
       "      <th>126</th>\n",
       "      <td>127</td>\n",
       "      <td>Younis Khan</td>\n",
       "      <td>2</td>\n",
       "      <td>...</td>\n",
       "      <td>2008</td>\n",
       "      <td>225000</td>\n",
       "      <td>225000</td>\n",
       "    </tr>\n",
       "    <tr>\n",
       "      <th>127</th>\n",
       "      <td>128</td>\n",
       "      <td>Yuvraj Singh</td>\n",
       "      <td>2</td>\n",
       "      <td>...</td>\n",
       "      <td>2011</td>\n",
       "      <td>400000</td>\n",
       "      <td>1800000</td>\n",
       "    </tr>\n",
       "    <tr>\n",
       "      <th>128</th>\n",
       "      <td>129</td>\n",
       "      <td>Zaheer Khan</td>\n",
       "      <td>2</td>\n",
       "      <td>...</td>\n",
       "      <td>2008</td>\n",
       "      <td>200000</td>\n",
       "      <td>450000</td>\n",
       "    </tr>\n",
       "    <tr>\n",
       "      <th>129</th>\n",
       "      <td>130</td>\n",
       "      <td>Zoysa, DNT</td>\n",
       "      <td>2</td>\n",
       "      <td>...</td>\n",
       "      <td>2008</td>\n",
       "      <td>100000</td>\n",
       "      <td>110000</td>\n",
       "    </tr>\n",
       "  </tbody>\n",
       "</table>\n",
       "<p>5 rows × 26 columns</p>\n",
       "</div>"
      ],
      "text/plain": [
       "     Sl.NO.   PLAYER NAME  AGE  ... AUCTION YEAR BASE PRICE SOLD PRICE\n",
       "125     126     Yadav, AS    2  ...         2010      50000     750000\n",
       "126     127   Younis Khan    2  ...         2008     225000     225000\n",
       "127     128  Yuvraj Singh    2  ...         2011     400000    1800000\n",
       "128     129   Zaheer Khan    2  ...         2008     200000     450000\n",
       "129     130    Zoysa, DNT    2  ...         2008     100000     110000\n",
       "\n",
       "[5 rows x 26 columns]"
      ]
     },
     "execution_count": 23,
     "metadata": {},
     "output_type": "execute_result"
    }
   ],
   "source": [
    "ipl_auction_df[-5:]"
   ]
  },
  {
   "cell_type": "markdown",
   "metadata": {},
   "source": [
    "#### Selecting Columns by Column Names"
   ]
  },
  {
   "cell_type": "code",
   "execution_count": 24,
   "metadata": {},
   "outputs": [
    {
     "data": {
      "text/plain": [
       "0     Abdulla, YA\n",
       "1    Abdur Razzak\n",
       "2     Agarkar, AB\n",
       "3       Ashwin, R\n",
       "4    Badrinath, S\n",
       "Name: PLAYER NAME, dtype: object"
      ]
     },
     "execution_count": 24,
     "metadata": {},
     "output_type": "execute_result"
    }
   ],
   "source": [
    "ipl_auction_df['PLAYER NAME'][0:5]"
   ]
  },
  {
   "cell_type": "code",
   "execution_count": 25,
   "metadata": {},
   "outputs": [
    {
     "data": {
      "text/html": [
       "<div>\n",
       "<style scoped>\n",
       "    .dataframe tbody tr th:only-of-type {\n",
       "        vertical-align: middle;\n",
       "    }\n",
       "\n",
       "    .dataframe tbody tr th {\n",
       "        vertical-align: top;\n",
       "    }\n",
       "\n",
       "    .dataframe thead th {\n",
       "        text-align: right;\n",
       "    }\n",
       "</style>\n",
       "<table border=\"1\" class=\"dataframe\">\n",
       "  <thead>\n",
       "    <tr style=\"text-align: right;\">\n",
       "      <th></th>\n",
       "      <th>PLAYER NAME</th>\n",
       "      <th>COUNTRY</th>\n",
       "    </tr>\n",
       "  </thead>\n",
       "  <tbody>\n",
       "    <tr>\n",
       "      <th>0</th>\n",
       "      <td>Abdulla, YA</td>\n",
       "      <td>SA</td>\n",
       "    </tr>\n",
       "    <tr>\n",
       "      <th>1</th>\n",
       "      <td>Abdur Razzak</td>\n",
       "      <td>BAN</td>\n",
       "    </tr>\n",
       "    <tr>\n",
       "      <th>2</th>\n",
       "      <td>Agarkar, AB</td>\n",
       "      <td>IND</td>\n",
       "    </tr>\n",
       "    <tr>\n",
       "      <th>3</th>\n",
       "      <td>Ashwin, R</td>\n",
       "      <td>IND</td>\n",
       "    </tr>\n",
       "    <tr>\n",
       "      <th>4</th>\n",
       "      <td>Badrinath, S</td>\n",
       "      <td>IND</td>\n",
       "    </tr>\n",
       "  </tbody>\n",
       "</table>\n",
       "</div>"
      ],
      "text/plain": [
       "    PLAYER NAME COUNTRY\n",
       "0   Abdulla, YA      SA\n",
       "1  Abdur Razzak     BAN\n",
       "2   Agarkar, AB     IND\n",
       "3     Ashwin, R     IND\n",
       "4  Badrinath, S     IND"
      ]
     },
     "execution_count": 25,
     "metadata": {},
     "output_type": "execute_result"
    }
   ],
   "source": [
    "ipl_auction_df[['PLAYER NAME', 'COUNTRY']][0:5]"
   ]
  },
  {
   "cell_type": "markdown",
   "metadata": {},
   "source": [
    "#### Selecting Rows and Columns by indexes"
   ]
  },
  {
   "cell_type": "code",
   "execution_count": 26,
   "metadata": {},
   "outputs": [
    {
     "data": {
      "text/html": [
       "<div>\n",
       "<style scoped>\n",
       "    .dataframe tbody tr th:only-of-type {\n",
       "        vertical-align: middle;\n",
       "    }\n",
       "\n",
       "    .dataframe tbody tr th {\n",
       "        vertical-align: top;\n",
       "    }\n",
       "\n",
       "    .dataframe thead th {\n",
       "        text-align: right;\n",
       "    }\n",
       "</style>\n",
       "<table border=\"1\" class=\"dataframe\">\n",
       "  <thead>\n",
       "    <tr style=\"text-align: right;\">\n",
       "      <th></th>\n",
       "      <th>PLAYER NAME</th>\n",
       "      <th>AGE</th>\n",
       "      <th>COUNTRY</th>\n",
       "    </tr>\n",
       "  </thead>\n",
       "  <tbody>\n",
       "    <tr>\n",
       "      <th>4</th>\n",
       "      <td>Badrinath, S</td>\n",
       "      <td>2</td>\n",
       "      <td>IND</td>\n",
       "    </tr>\n",
       "    <tr>\n",
       "      <th>5</th>\n",
       "      <td>Bailey, GJ</td>\n",
       "      <td>2</td>\n",
       "      <td>AUS</td>\n",
       "    </tr>\n",
       "    <tr>\n",
       "      <th>6</th>\n",
       "      <td>Balaji, L</td>\n",
       "      <td>2</td>\n",
       "      <td>IND</td>\n",
       "    </tr>\n",
       "    <tr>\n",
       "      <th>7</th>\n",
       "      <td>Bollinger, DE</td>\n",
       "      <td>2</td>\n",
       "      <td>AUS</td>\n",
       "    </tr>\n",
       "    <tr>\n",
       "      <th>8</th>\n",
       "      <td>Botha, J</td>\n",
       "      <td>2</td>\n",
       "      <td>SA</td>\n",
       "    </tr>\n",
       "  </tbody>\n",
       "</table>\n",
       "</div>"
      ],
      "text/plain": [
       "     PLAYER NAME  AGE COUNTRY\n",
       "4   Badrinath, S    2     IND\n",
       "5     Bailey, GJ    2     AUS\n",
       "6      Balaji, L    2     IND\n",
       "7  Bollinger, DE    2     AUS\n",
       "8       Botha, J    2      SA"
      ]
     },
     "execution_count": 26,
     "metadata": {},
     "output_type": "execute_result"
    }
   ],
   "source": [
    "ipl_auction_df.iloc[4:9, 1:4]"
   ]
  },
  {
   "cell_type": "markdown",
   "metadata": {},
   "source": [
    "### Value Counts and Cross Tabulations"
   ]
  },
  {
   "cell_type": "markdown",
   "metadata": {},
   "source": [
    "#### Finding Unique Occurances of Values in Columns"
   ]
  },
  {
   "cell_type": "code",
   "execution_count": 27,
   "metadata": {},
   "outputs": [
    {
     "data": {
      "text/plain": [
       "IND    53\n",
       "AUS    22\n",
       "SA     16\n",
       "SL     12\n",
       "PAK     9\n",
       "NZ      7\n",
       "WI      6\n",
       "ENG     3\n",
       "ZIM     1\n",
       "BAN     1\n",
       "Name: COUNTRY, dtype: int64"
      ]
     },
     "execution_count": 27,
     "metadata": {},
     "output_type": "execute_result"
    }
   ],
   "source": [
    "ipl_auction_df.COUNTRY.value_counts()"
   ]
  },
  {
   "cell_type": "code",
   "execution_count": 28,
   "metadata": {},
   "outputs": [
    {
     "data": {
      "text/plain": [
       "IND   40.769\n",
       "AUS   16.923\n",
       "SA    12.308\n",
       "SL     9.231\n",
       "PAK    6.923\n",
       "NZ     5.385\n",
       "WI     4.615\n",
       "ENG    2.308\n",
       "ZIM    0.769\n",
       "BAN    0.769\n",
       "Name: COUNTRY, dtype: float64"
      ]
     },
     "execution_count": 28,
     "metadata": {},
     "output_type": "execute_result"
    }
   ],
   "source": [
    "# In terms of %\n",
    "ipl_auction_df.COUNTRY.value_counts(normalize=True)*100"
   ]
  },
  {
   "cell_type": "markdown",
   "metadata": {},
   "source": [
    "#### Cross-tabulation between two columns"
   ]
  },
  {
   "cell_type": "code",
   "execution_count": 29,
   "metadata": {},
   "outputs": [
    {
     "data": {
      "text/html": [
       "<div>\n",
       "<style scoped>\n",
       "    .dataframe tbody tr th:only-of-type {\n",
       "        vertical-align: middle;\n",
       "    }\n",
       "\n",
       "    .dataframe tbody tr th {\n",
       "        vertical-align: top;\n",
       "    }\n",
       "\n",
       "    .dataframe thead th {\n",
       "        text-align: right;\n",
       "    }\n",
       "</style>\n",
       "<table border=\"1\" class=\"dataframe\">\n",
       "  <thead>\n",
       "    <tr style=\"text-align: right;\">\n",
       "      <th>PLAYING ROLE</th>\n",
       "      <th>Allrounder</th>\n",
       "      <th>Batsman</th>\n",
       "      <th>Bowler</th>\n",
       "      <th>W. Keeper</th>\n",
       "    </tr>\n",
       "    <tr>\n",
       "      <th>AGE</th>\n",
       "      <th></th>\n",
       "      <th></th>\n",
       "      <th></th>\n",
       "      <th></th>\n",
       "    </tr>\n",
       "  </thead>\n",
       "  <tbody>\n",
       "    <tr>\n",
       "      <th>1</th>\n",
       "      <td>4</td>\n",
       "      <td>5</td>\n",
       "      <td>7</td>\n",
       "      <td>0</td>\n",
       "    </tr>\n",
       "    <tr>\n",
       "      <th>2</th>\n",
       "      <td>25</td>\n",
       "      <td>21</td>\n",
       "      <td>29</td>\n",
       "      <td>11</td>\n",
       "    </tr>\n",
       "    <tr>\n",
       "      <th>3</th>\n",
       "      <td>6</td>\n",
       "      <td>13</td>\n",
       "      <td>8</td>\n",
       "      <td>1</td>\n",
       "    </tr>\n",
       "  </tbody>\n",
       "</table>\n",
       "</div>"
      ],
      "text/plain": [
       "PLAYING ROLE  Allrounder  Batsman  Bowler  W. Keeper\n",
       "AGE                                                 \n",
       "1                      4        5       7          0\n",
       "2                     25       21      29         11\n",
       "3                      6       13       8          1"
      ]
     },
     "execution_count": 29,
     "metadata": {},
     "output_type": "execute_result"
    }
   ],
   "source": [
    "pd.crosstab( ipl_auction_df['AGE'], ipl_auction_df['PLAYING ROLE'] )"
   ]
  },
  {
   "cell_type": "markdown",
   "metadata": {},
   "source": [
    "### Sorting dataframe by column values"
   ]
  },
  {
   "cell_type": "code",
   "execution_count": 30,
   "metadata": {},
   "outputs": [
    {
     "data": {
      "text/html": [
       "<div>\n",
       "<style scoped>\n",
       "    .dataframe tbody tr th:only-of-type {\n",
       "        vertical-align: middle;\n",
       "    }\n",
       "\n",
       "    .dataframe tbody tr th {\n",
       "        vertical-align: top;\n",
       "    }\n",
       "\n",
       "    .dataframe thead th {\n",
       "        text-align: right;\n",
       "    }\n",
       "</style>\n",
       "<table border=\"1\" class=\"dataframe\">\n",
       "  <thead>\n",
       "    <tr style=\"text-align: right;\">\n",
       "      <th></th>\n",
       "      <th>PLAYER NAME</th>\n",
       "      <th>SOLD PRICE</th>\n",
       "    </tr>\n",
       "  </thead>\n",
       "  <tbody>\n",
       "    <tr>\n",
       "      <th>73</th>\n",
       "      <td>Noffke, AA</td>\n",
       "      <td>20000</td>\n",
       "    </tr>\n",
       "    <tr>\n",
       "      <th>46</th>\n",
       "      <td>Kamran Khan</td>\n",
       "      <td>24000</td>\n",
       "    </tr>\n",
       "    <tr>\n",
       "      <th>0</th>\n",
       "      <td>Abdulla, YA</td>\n",
       "      <td>50000</td>\n",
       "    </tr>\n",
       "    <tr>\n",
       "      <th>1</th>\n",
       "      <td>Abdur Razzak</td>\n",
       "      <td>50000</td>\n",
       "    </tr>\n",
       "    <tr>\n",
       "      <th>118</th>\n",
       "      <td>Van der Merwe</td>\n",
       "      <td>50000</td>\n",
       "    </tr>\n",
       "  </tbody>\n",
       "</table>\n",
       "</div>"
      ],
      "text/plain": [
       "       PLAYER NAME  SOLD PRICE\n",
       "73      Noffke, AA       20000\n",
       "46     Kamran Khan       24000\n",
       "0      Abdulla, YA       50000\n",
       "1     Abdur Razzak       50000\n",
       "118  Van der Merwe       50000"
      ]
     },
     "execution_count": 30,
     "metadata": {},
     "output_type": "execute_result"
    }
   ],
   "source": [
    "ipl_auction_df[['PLAYER NAME', 'SOLD PRICE']].sort_values('SOLD PRICE')[0:5]"
   ]
  },
  {
   "cell_type": "code",
   "execution_count": 32,
   "metadata": {},
   "outputs": [
    {
     "data": {
      "text/html": [
       "<div>\n",
       "<style scoped>\n",
       "    .dataframe tbody tr th:only-of-type {\n",
       "        vertical-align: middle;\n",
       "    }\n",
       "\n",
       "    .dataframe tbody tr th {\n",
       "        vertical-align: top;\n",
       "    }\n",
       "\n",
       "    .dataframe thead th {\n",
       "        text-align: right;\n",
       "    }\n",
       "</style>\n",
       "<table border=\"1\" class=\"dataframe\">\n",
       "  <thead>\n",
       "    <tr style=\"text-align: right;\">\n",
       "      <th></th>\n",
       "      <th>PLAYER NAME</th>\n",
       "      <th>SOLD PRICE</th>\n",
       "    </tr>\n",
       "  </thead>\n",
       "  <tbody>\n",
       "    <tr>\n",
       "      <th>93</th>\n",
       "      <td>Sehwag, V</td>\n",
       "      <td>1800000</td>\n",
       "    </tr>\n",
       "    <tr>\n",
       "      <th>127</th>\n",
       "      <td>Yuvraj Singh</td>\n",
       "      <td>1800000</td>\n",
       "    </tr>\n",
       "    <tr>\n",
       "      <th>50</th>\n",
       "      <td>Kohli, V</td>\n",
       "      <td>1800000</td>\n",
       "    </tr>\n",
       "    <tr>\n",
       "      <th>111</th>\n",
       "      <td>Tendulkar, SR</td>\n",
       "      <td>1800000</td>\n",
       "    </tr>\n",
       "    <tr>\n",
       "      <th>113</th>\n",
       "      <td>Tiwary, SS</td>\n",
       "      <td>1600000</td>\n",
       "    </tr>\n",
       "  </tbody>\n",
       "</table>\n",
       "</div>"
      ],
      "text/plain": [
       "       PLAYER NAME  SOLD PRICE\n",
       "93       Sehwag, V     1800000\n",
       "127   Yuvraj Singh     1800000\n",
       "50        Kohli, V     1800000\n",
       "111  Tendulkar, SR     1800000\n",
       "113     Tiwary, SS     1600000"
      ]
     },
     "execution_count": 32,
     "metadata": {},
     "output_type": "execute_result"
    }
   ],
   "source": [
    "ipl_auction_df[['PLAYER NAME', 'SOLD PRICE']].sort_values('SOLD PRICE', ascending = False)[0:5]"
   ]
  },
  {
   "cell_type": "markdown",
   "metadata": {},
   "source": [
    "### Creating new columns"
   ]
  },
  {
   "cell_type": "markdown",
   "metadata": {},
   "source": [
    "#### creating derived attributes ( feature engineering)"
   ]
  },
  {
   "cell_type": "code",
   "execution_count": 34,
   "metadata": {},
   "outputs": [],
   "source": [
    "#Which player got the maximum premium on the base price?\n",
    "ipl_auction_df['premium'] = ipl_auction_df['SOLD PRICE'] - ipl_auction_df['BASE PRICE']"
   ]
  },
  {
   "cell_type": "code",
   "execution_count": 36,
   "metadata": {},
   "outputs": [
    {
     "data": {
      "text/html": [
       "<div>\n",
       "<style scoped>\n",
       "    .dataframe tbody tr th:only-of-type {\n",
       "        vertical-align: middle;\n",
       "    }\n",
       "\n",
       "    .dataframe tbody tr th {\n",
       "        vertical-align: top;\n",
       "    }\n",
       "\n",
       "    .dataframe thead th {\n",
       "        text-align: right;\n",
       "    }\n",
       "</style>\n",
       "<table border=\"1\" class=\"dataframe\">\n",
       "  <thead>\n",
       "    <tr style=\"text-align: right;\">\n",
       "      <th></th>\n",
       "      <th>PLAYER NAME</th>\n",
       "      <th>BASE PRICE</th>\n",
       "      <th>SOLD PRICE</th>\n",
       "      <th>premium</th>\n",
       "    </tr>\n",
       "  </thead>\n",
       "  <tbody>\n",
       "    <tr>\n",
       "      <th>0</th>\n",
       "      <td>Abdulla, YA</td>\n",
       "      <td>50000</td>\n",
       "      <td>50000</td>\n",
       "      <td>0</td>\n",
       "    </tr>\n",
       "    <tr>\n",
       "      <th>1</th>\n",
       "      <td>Abdur Razzak</td>\n",
       "      <td>50000</td>\n",
       "      <td>50000</td>\n",
       "      <td>0</td>\n",
       "    </tr>\n",
       "    <tr>\n",
       "      <th>2</th>\n",
       "      <td>Agarkar, AB</td>\n",
       "      <td>200000</td>\n",
       "      <td>350000</td>\n",
       "      <td>150000</td>\n",
       "    </tr>\n",
       "    <tr>\n",
       "      <th>3</th>\n",
       "      <td>Ashwin, R</td>\n",
       "      <td>100000</td>\n",
       "      <td>850000</td>\n",
       "      <td>750000</td>\n",
       "    </tr>\n",
       "    <tr>\n",
       "      <th>4</th>\n",
       "      <td>Badrinath, S</td>\n",
       "      <td>100000</td>\n",
       "      <td>800000</td>\n",
       "      <td>700000</td>\n",
       "    </tr>\n",
       "  </tbody>\n",
       "</table>\n",
       "</div>"
      ],
      "text/plain": [
       "    PLAYER NAME  BASE PRICE  SOLD PRICE  premium\n",
       "0   Abdulla, YA       50000       50000        0\n",
       "1  Abdur Razzak       50000       50000        0\n",
       "2   Agarkar, AB      200000      350000   150000\n",
       "3     Ashwin, R      100000      850000   750000\n",
       "4  Badrinath, S      100000      800000   700000"
      ]
     },
     "execution_count": 36,
     "metadata": {},
     "output_type": "execute_result"
    }
   ],
   "source": [
    "ipl_auction_df[['PLAYER NAME', 'BASE PRICE', 'SOLD PRICE', 'premium']][0:5]"
   ]
  },
  {
   "cell_type": "code",
   "execution_count": 37,
   "metadata": {},
   "outputs": [],
   "source": [
    "#Which players got the maximum premium offering on their base price?\n"
   ]
  },
  {
   "cell_type": "code",
   "execution_count": 38,
   "metadata": {},
   "outputs": [
    {
     "data": {
      "text/html": [
       "<div>\n",
       "<style scoped>\n",
       "    .dataframe tbody tr th:only-of-type {\n",
       "        vertical-align: middle;\n",
       "    }\n",
       "\n",
       "    .dataframe tbody tr th {\n",
       "        vertical-align: top;\n",
       "    }\n",
       "\n",
       "    .dataframe thead th {\n",
       "        text-align: right;\n",
       "    }\n",
       "</style>\n",
       "<table border=\"1\" class=\"dataframe\">\n",
       "  <thead>\n",
       "    <tr style=\"text-align: right;\">\n",
       "      <th></th>\n",
       "      <th>PLAYER NAME</th>\n",
       "      <th>BASE PRICE</th>\n",
       "      <th>SOLD PRICE</th>\n",
       "      <th>premium</th>\n",
       "    </tr>\n",
       "  </thead>\n",
       "  <tbody>\n",
       "    <tr>\n",
       "      <th>50</th>\n",
       "      <td>Kohli, V</td>\n",
       "      <td>150000</td>\n",
       "      <td>1800000</td>\n",
       "      <td>1650000</td>\n",
       "    </tr>\n",
       "    <tr>\n",
       "      <th>113</th>\n",
       "      <td>Tiwary, SS</td>\n",
       "      <td>100000</td>\n",
       "      <td>1600000</td>\n",
       "      <td>1500000</td>\n",
       "    </tr>\n",
       "    <tr>\n",
       "      <th>127</th>\n",
       "      <td>Yuvraj Singh</td>\n",
       "      <td>400000</td>\n",
       "      <td>1800000</td>\n",
       "      <td>1400000</td>\n",
       "    </tr>\n",
       "    <tr>\n",
       "      <th>111</th>\n",
       "      <td>Tendulkar, SR</td>\n",
       "      <td>400000</td>\n",
       "      <td>1800000</td>\n",
       "      <td>1400000</td>\n",
       "    </tr>\n",
       "    <tr>\n",
       "      <th>93</th>\n",
       "      <td>Sehwag, V</td>\n",
       "      <td>400000</td>\n",
       "      <td>1800000</td>\n",
       "      <td>1400000</td>\n",
       "    </tr>\n",
       "  </tbody>\n",
       "</table>\n",
       "</div>"
      ],
      "text/plain": [
       "       PLAYER NAME  BASE PRICE  SOLD PRICE  premium\n",
       "50        Kohli, V      150000     1800000  1650000\n",
       "113     Tiwary, SS      100000     1600000  1500000\n",
       "127   Yuvraj Singh      400000     1800000  1400000\n",
       "111  Tendulkar, SR      400000     1800000  1400000\n",
       "93       Sehwag, V      400000     1800000  1400000"
      ]
     },
     "execution_count": 38,
     "metadata": {},
     "output_type": "execute_result"
    }
   ],
   "source": [
    "ipl_auction_df[['PLAYER NAME',\n",
    "'BASE PRICE',\n",
    "'SOLD PRICE', 'premium']].sort_values('premium',\n",
    "ascending = False)[0:5]"
   ]
  },
  {
   "cell_type": "markdown",
   "metadata": {},
   "source": [
    "### Grouping and Aggregating"
   ]
  },
  {
   "cell_type": "markdown",
   "metadata": {},
   "source": [
    "#### What is the average SOLD PRICE for each age category?"
   ]
  },
  {
   "cell_type": "code",
   "execution_count": 40,
   "metadata": {},
   "outputs": [
    {
     "data": {
      "text/plain": [
       "AGE\n",
       "1   720250.000\n",
       "2   484534.884\n",
       "3   520178.571\n",
       "Name: SOLD PRICE, dtype: float64"
      ]
     },
     "execution_count": 40,
     "metadata": {},
     "output_type": "execute_result"
    }
   ],
   "source": [
    "ipl_auction_df.groupby('AGE')['SOLD PRICE'].mean()"
   ]
  },
  {
   "cell_type": "code",
   "execution_count": 41,
   "metadata": {},
   "outputs": [
    {
     "data": {
      "text/html": [
       "<div>\n",
       "<style scoped>\n",
       "    .dataframe tbody tr th:only-of-type {\n",
       "        vertical-align: middle;\n",
       "    }\n",
       "\n",
       "    .dataframe tbody tr th {\n",
       "        vertical-align: top;\n",
       "    }\n",
       "\n",
       "    .dataframe thead th {\n",
       "        text-align: right;\n",
       "    }\n",
       "</style>\n",
       "<table border=\"1\" class=\"dataframe\">\n",
       "  <thead>\n",
       "    <tr style=\"text-align: right;\">\n",
       "      <th></th>\n",
       "      <th>AGE</th>\n",
       "      <th>SOLD PRICE</th>\n",
       "    </tr>\n",
       "  </thead>\n",
       "  <tbody>\n",
       "    <tr>\n",
       "      <th>0</th>\n",
       "      <td>1</td>\n",
       "      <td>720250.000</td>\n",
       "    </tr>\n",
       "    <tr>\n",
       "      <th>1</th>\n",
       "      <td>2</td>\n",
       "      <td>484534.884</td>\n",
       "    </tr>\n",
       "    <tr>\n",
       "      <th>2</th>\n",
       "      <td>3</td>\n",
       "      <td>520178.571</td>\n",
       "    </tr>\n",
       "  </tbody>\n",
       "</table>\n",
       "</div>"
      ],
      "text/plain": [
       "   AGE  SOLD PRICE\n",
       "0    1  720250.000\n",
       "1    2  484534.884\n",
       "2    3  520178.571"
      ]
     },
     "execution_count": 41,
     "metadata": {},
     "output_type": "execute_result"
    }
   ],
   "source": [
    "soldprice_by_age = ipl_auction_df.groupby('AGE')['SOLD PRICE'].mean().reset_index()\n",
    "soldprice_by_age"
   ]
  },
  {
   "cell_type": "markdown",
   "metadata": {},
   "source": [
    "#### Average SOLD PRICE for Different Playing Roles in Each Age Category?"
   ]
  },
  {
   "cell_type": "code",
   "execution_count": 42,
   "metadata": {},
   "outputs": [
    {
     "data": {
      "text/html": [
       "<div>\n",
       "<style scoped>\n",
       "    .dataframe tbody tr th:only-of-type {\n",
       "        vertical-align: middle;\n",
       "    }\n",
       "\n",
       "    .dataframe tbody tr th {\n",
       "        vertical-align: top;\n",
       "    }\n",
       "\n",
       "    .dataframe thead th {\n",
       "        text-align: right;\n",
       "    }\n",
       "</style>\n",
       "<table border=\"1\" class=\"dataframe\">\n",
       "  <thead>\n",
       "    <tr style=\"text-align: right;\">\n",
       "      <th></th>\n",
       "      <th>AGE</th>\n",
       "      <th>PLAYING ROLE</th>\n",
       "      <th>SOLD PRICE</th>\n",
       "    </tr>\n",
       "  </thead>\n",
       "  <tbody>\n",
       "    <tr>\n",
       "      <th>0</th>\n",
       "      <td>1</td>\n",
       "      <td>Allrounder</td>\n",
       "      <td>587500.000</td>\n",
       "    </tr>\n",
       "    <tr>\n",
       "      <th>1</th>\n",
       "      <td>1</td>\n",
       "      <td>Batsman</td>\n",
       "      <td>1110000.000</td>\n",
       "    </tr>\n",
       "    <tr>\n",
       "      <th>2</th>\n",
       "      <td>1</td>\n",
       "      <td>Bowler</td>\n",
       "      <td>517714.286</td>\n",
       "    </tr>\n",
       "    <tr>\n",
       "      <th>3</th>\n",
       "      <td>2</td>\n",
       "      <td>Allrounder</td>\n",
       "      <td>449400.000</td>\n",
       "    </tr>\n",
       "    <tr>\n",
       "      <th>4</th>\n",
       "      <td>2</td>\n",
       "      <td>Batsman</td>\n",
       "      <td>654761.905</td>\n",
       "    </tr>\n",
       "    <tr>\n",
       "      <th>5</th>\n",
       "      <td>2</td>\n",
       "      <td>Bowler</td>\n",
       "      <td>397931.034</td>\n",
       "    </tr>\n",
       "    <tr>\n",
       "      <th>6</th>\n",
       "      <td>2</td>\n",
       "      <td>W. Keeper</td>\n",
       "      <td>467727.273</td>\n",
       "    </tr>\n",
       "    <tr>\n",
       "      <th>7</th>\n",
       "      <td>3</td>\n",
       "      <td>Allrounder</td>\n",
       "      <td>766666.667</td>\n",
       "    </tr>\n",
       "    <tr>\n",
       "      <th>8</th>\n",
       "      <td>3</td>\n",
       "      <td>Batsman</td>\n",
       "      <td>457692.308</td>\n",
       "    </tr>\n",
       "    <tr>\n",
       "      <th>9</th>\n",
       "      <td>3</td>\n",
       "      <td>Bowler</td>\n",
       "      <td>414375.000</td>\n",
       "    </tr>\n",
       "    <tr>\n",
       "      <th>10</th>\n",
       "      <td>3</td>\n",
       "      <td>W. Keeper</td>\n",
       "      <td>700000.000</td>\n",
       "    </tr>\n",
       "  </tbody>\n",
       "</table>\n",
       "</div>"
      ],
      "text/plain": [
       "    AGE PLAYING ROLE  SOLD PRICE\n",
       "0     1   Allrounder  587500.000\n",
       "1     1      Batsman 1110000.000\n",
       "2     1       Bowler  517714.286\n",
       "3     2   Allrounder  449400.000\n",
       "4     2      Batsman  654761.905\n",
       "5     2       Bowler  397931.034\n",
       "6     2    W. Keeper  467727.273\n",
       "7     3   Allrounder  766666.667\n",
       "8     3      Batsman  457692.308\n",
       "9     3       Bowler  414375.000\n",
       "10    3    W. Keeper  700000.000"
      ]
     },
     "execution_count": 42,
     "metadata": {},
     "output_type": "execute_result"
    }
   ],
   "source": [
    "soldprice_by_age_role = ipl_auction_df.groupby(['AGE', 'PLAYING ROLE'])['SOLD PRICE'].mean().reset_index()\n",
    "soldprice_by_age_role"
   ]
  },
  {
   "cell_type": "markdown",
   "metadata": {},
   "source": [
    "### Joining dataframes"
   ]
  },
  {
   "cell_type": "markdown",
   "metadata": {},
   "source": [
    "#### Compare the average auction price for different ages and playing roles."
   ]
  },
  {
   "cell_type": "code",
   "execution_count": 43,
   "metadata": {},
   "outputs": [],
   "source": [
    "soldprice_comparison = soldprice_by_age_role.merge( soldprice_by_age,\n",
    "on = 'AGE',\n",
    "how = 'outer')"
   ]
  },
  {
   "cell_type": "code",
   "execution_count": 44,
   "metadata": {},
   "outputs": [
    {
     "data": {
      "text/html": [
       "<div>\n",
       "<style scoped>\n",
       "    .dataframe tbody tr th:only-of-type {\n",
       "        vertical-align: middle;\n",
       "    }\n",
       "\n",
       "    .dataframe tbody tr th {\n",
       "        vertical-align: top;\n",
       "    }\n",
       "\n",
       "    .dataframe thead th {\n",
       "        text-align: right;\n",
       "    }\n",
       "</style>\n",
       "<table border=\"1\" class=\"dataframe\">\n",
       "  <thead>\n",
       "    <tr style=\"text-align: right;\">\n",
       "      <th></th>\n",
       "      <th>AGE</th>\n",
       "      <th>PLAYING ROLE</th>\n",
       "      <th>SOLD PRICE_x</th>\n",
       "      <th>SOLD PRICE_y</th>\n",
       "    </tr>\n",
       "  </thead>\n",
       "  <tbody>\n",
       "    <tr>\n",
       "      <th>0</th>\n",
       "      <td>1</td>\n",
       "      <td>Allrounder</td>\n",
       "      <td>587500.000</td>\n",
       "      <td>720250.000</td>\n",
       "    </tr>\n",
       "    <tr>\n",
       "      <th>1</th>\n",
       "      <td>1</td>\n",
       "      <td>Batsman</td>\n",
       "      <td>1110000.000</td>\n",
       "      <td>720250.000</td>\n",
       "    </tr>\n",
       "    <tr>\n",
       "      <th>2</th>\n",
       "      <td>1</td>\n",
       "      <td>Bowler</td>\n",
       "      <td>517714.286</td>\n",
       "      <td>720250.000</td>\n",
       "    </tr>\n",
       "    <tr>\n",
       "      <th>3</th>\n",
       "      <td>2</td>\n",
       "      <td>Allrounder</td>\n",
       "      <td>449400.000</td>\n",
       "      <td>484534.884</td>\n",
       "    </tr>\n",
       "    <tr>\n",
       "      <th>4</th>\n",
       "      <td>2</td>\n",
       "      <td>Batsman</td>\n",
       "      <td>654761.905</td>\n",
       "      <td>484534.884</td>\n",
       "    </tr>\n",
       "    <tr>\n",
       "      <th>5</th>\n",
       "      <td>2</td>\n",
       "      <td>Bowler</td>\n",
       "      <td>397931.034</td>\n",
       "      <td>484534.884</td>\n",
       "    </tr>\n",
       "    <tr>\n",
       "      <th>6</th>\n",
       "      <td>2</td>\n",
       "      <td>W. Keeper</td>\n",
       "      <td>467727.273</td>\n",
       "      <td>484534.884</td>\n",
       "    </tr>\n",
       "    <tr>\n",
       "      <th>7</th>\n",
       "      <td>3</td>\n",
       "      <td>Allrounder</td>\n",
       "      <td>766666.667</td>\n",
       "      <td>520178.571</td>\n",
       "    </tr>\n",
       "    <tr>\n",
       "      <th>8</th>\n",
       "      <td>3</td>\n",
       "      <td>Batsman</td>\n",
       "      <td>457692.308</td>\n",
       "      <td>520178.571</td>\n",
       "    </tr>\n",
       "    <tr>\n",
       "      <th>9</th>\n",
       "      <td>3</td>\n",
       "      <td>Bowler</td>\n",
       "      <td>414375.000</td>\n",
       "      <td>520178.571</td>\n",
       "    </tr>\n",
       "    <tr>\n",
       "      <th>10</th>\n",
       "      <td>3</td>\n",
       "      <td>W. Keeper</td>\n",
       "      <td>700000.000</td>\n",
       "      <td>520178.571</td>\n",
       "    </tr>\n",
       "  </tbody>\n",
       "</table>\n",
       "</div>"
      ],
      "text/plain": [
       "    AGE PLAYING ROLE  SOLD PRICE_x  SOLD PRICE_y\n",
       "0     1   Allrounder    587500.000    720250.000\n",
       "1     1      Batsman   1110000.000    720250.000\n",
       "2     1       Bowler    517714.286    720250.000\n",
       "3     2   Allrounder    449400.000    484534.884\n",
       "4     2      Batsman    654761.905    484534.884\n",
       "5     2       Bowler    397931.034    484534.884\n",
       "6     2    W. Keeper    467727.273    484534.884\n",
       "7     3   Allrounder    766666.667    520178.571\n",
       "8     3      Batsman    457692.308    520178.571\n",
       "9     3       Bowler    414375.000    520178.571\n",
       "10    3    W. Keeper    700000.000    520178.571"
      ]
     },
     "execution_count": 44,
     "metadata": {},
     "output_type": "execute_result"
    }
   ],
   "source": [
    "soldprice_comparison"
   ]
  },
  {
   "cell_type": "markdown",
   "metadata": {},
   "source": [
    "### Re-naming columns"
   ]
  },
  {
   "cell_type": "code",
   "execution_count": 45,
   "metadata": {},
   "outputs": [],
   "source": [
    "soldprice_comparison.rename( columns = { 'SOLD PRICE_x': 'SOLD_PRICE_AGE_ROLE',\n",
    "'SOLD PRICE_y': 'SOLD_PRICE_AGE' }, inplace = True )"
   ]
  },
  {
   "cell_type": "code",
   "execution_count": 46,
   "metadata": {},
   "outputs": [
    {
     "data": {
      "text/html": [
       "<div>\n",
       "<style scoped>\n",
       "    .dataframe tbody tr th:only-of-type {\n",
       "        vertical-align: middle;\n",
       "    }\n",
       "\n",
       "    .dataframe tbody tr th {\n",
       "        vertical-align: top;\n",
       "    }\n",
       "\n",
       "    .dataframe thead th {\n",
       "        text-align: right;\n",
       "    }\n",
       "</style>\n",
       "<table border=\"1\" class=\"dataframe\">\n",
       "  <thead>\n",
       "    <tr style=\"text-align: right;\">\n",
       "      <th></th>\n",
       "      <th>AGE</th>\n",
       "      <th>PLAYING ROLE</th>\n",
       "      <th>SOLD_PRICE_AGE_ROLE</th>\n",
       "      <th>SOLD_PRICE_AGE</th>\n",
       "    </tr>\n",
       "  </thead>\n",
       "  <tbody>\n",
       "    <tr>\n",
       "      <th>0</th>\n",
       "      <td>1</td>\n",
       "      <td>Allrounder</td>\n",
       "      <td>587500.000</td>\n",
       "      <td>720250.000</td>\n",
       "    </tr>\n",
       "    <tr>\n",
       "      <th>1</th>\n",
       "      <td>1</td>\n",
       "      <td>Batsman</td>\n",
       "      <td>1110000.000</td>\n",
       "      <td>720250.000</td>\n",
       "    </tr>\n",
       "    <tr>\n",
       "      <th>2</th>\n",
       "      <td>1</td>\n",
       "      <td>Bowler</td>\n",
       "      <td>517714.286</td>\n",
       "      <td>720250.000</td>\n",
       "    </tr>\n",
       "    <tr>\n",
       "      <th>3</th>\n",
       "      <td>2</td>\n",
       "      <td>Allrounder</td>\n",
       "      <td>449400.000</td>\n",
       "      <td>484534.884</td>\n",
       "    </tr>\n",
       "    <tr>\n",
       "      <th>4</th>\n",
       "      <td>2</td>\n",
       "      <td>Batsman</td>\n",
       "      <td>654761.905</td>\n",
       "      <td>484534.884</td>\n",
       "    </tr>\n",
       "  </tbody>\n",
       "</table>\n",
       "</div>"
      ],
      "text/plain": [
       "   AGE PLAYING ROLE  SOLD_PRICE_AGE_ROLE  SOLD_PRICE_AGE\n",
       "0    1   Allrounder           587500.000      720250.000\n",
       "1    1      Batsman          1110000.000      720250.000\n",
       "2    1       Bowler           517714.286      720250.000\n",
       "3    2   Allrounder           449400.000      484534.884\n",
       "4    2      Batsman           654761.905      484534.884"
      ]
     },
     "execution_count": 46,
     "metadata": {},
     "output_type": "execute_result"
    }
   ],
   "source": [
    "soldprice_comparison.head(5)"
   ]
  },
  {
   "cell_type": "markdown",
   "metadata": {},
   "source": [
    "### Applying Operations to multiple columns"
   ]
  },
  {
   "cell_type": "code",
   "execution_count": 48,
   "metadata": {},
   "outputs": [],
   "source": [
    "soldprice_comparison['change'] = soldprice_comparison.apply(lambda rec:\n",
    "(rec.SOLD_PRICE_AGE_ROLE - rec.SOLD_PRICE_AGE) / rec.SOLD_PRICE_AGE,\n",
    "axis = 1)"
   ]
  },
  {
   "cell_type": "code",
   "execution_count": 49,
   "metadata": {},
   "outputs": [
    {
     "data": {
      "text/html": [
       "<div>\n",
       "<style scoped>\n",
       "    .dataframe tbody tr th:only-of-type {\n",
       "        vertical-align: middle;\n",
       "    }\n",
       "\n",
       "    .dataframe tbody tr th {\n",
       "        vertical-align: top;\n",
       "    }\n",
       "\n",
       "    .dataframe thead th {\n",
       "        text-align: right;\n",
       "    }\n",
       "</style>\n",
       "<table border=\"1\" class=\"dataframe\">\n",
       "  <thead>\n",
       "    <tr style=\"text-align: right;\">\n",
       "      <th></th>\n",
       "      <th>AGE</th>\n",
       "      <th>PLAYING ROLE</th>\n",
       "      <th>SOLD_PRICE_AGE_ROLE</th>\n",
       "      <th>SOLD_PRICE_AGE</th>\n",
       "      <th>change</th>\n",
       "    </tr>\n",
       "  </thead>\n",
       "  <tbody>\n",
       "    <tr>\n",
       "      <th>0</th>\n",
       "      <td>1</td>\n",
       "      <td>Allrounder</td>\n",
       "      <td>587500.000</td>\n",
       "      <td>720250.000</td>\n",
       "      <td>-0.184</td>\n",
       "    </tr>\n",
       "    <tr>\n",
       "      <th>1</th>\n",
       "      <td>1</td>\n",
       "      <td>Batsman</td>\n",
       "      <td>1110000.000</td>\n",
       "      <td>720250.000</td>\n",
       "      <td>0.541</td>\n",
       "    </tr>\n",
       "    <tr>\n",
       "      <th>2</th>\n",
       "      <td>1</td>\n",
       "      <td>Bowler</td>\n",
       "      <td>517714.286</td>\n",
       "      <td>720250.000</td>\n",
       "      <td>-0.281</td>\n",
       "    </tr>\n",
       "    <tr>\n",
       "      <th>3</th>\n",
       "      <td>2</td>\n",
       "      <td>Allrounder</td>\n",
       "      <td>449400.000</td>\n",
       "      <td>484534.884</td>\n",
       "      <td>-0.073</td>\n",
       "    </tr>\n",
       "    <tr>\n",
       "      <th>4</th>\n",
       "      <td>2</td>\n",
       "      <td>Batsman</td>\n",
       "      <td>654761.905</td>\n",
       "      <td>484534.884</td>\n",
       "      <td>0.351</td>\n",
       "    </tr>\n",
       "    <tr>\n",
       "      <th>5</th>\n",
       "      <td>2</td>\n",
       "      <td>Bowler</td>\n",
       "      <td>397931.034</td>\n",
       "      <td>484534.884</td>\n",
       "      <td>-0.179</td>\n",
       "    </tr>\n",
       "    <tr>\n",
       "      <th>6</th>\n",
       "      <td>2</td>\n",
       "      <td>W. Keeper</td>\n",
       "      <td>467727.273</td>\n",
       "      <td>484534.884</td>\n",
       "      <td>-0.035</td>\n",
       "    </tr>\n",
       "    <tr>\n",
       "      <th>7</th>\n",
       "      <td>3</td>\n",
       "      <td>Allrounder</td>\n",
       "      <td>766666.667</td>\n",
       "      <td>520178.571</td>\n",
       "      <td>0.474</td>\n",
       "    </tr>\n",
       "    <tr>\n",
       "      <th>8</th>\n",
       "      <td>3</td>\n",
       "      <td>Batsman</td>\n",
       "      <td>457692.308</td>\n",
       "      <td>520178.571</td>\n",
       "      <td>-0.120</td>\n",
       "    </tr>\n",
       "    <tr>\n",
       "      <th>9</th>\n",
       "      <td>3</td>\n",
       "      <td>Bowler</td>\n",
       "      <td>414375.000</td>\n",
       "      <td>520178.571</td>\n",
       "      <td>-0.203</td>\n",
       "    </tr>\n",
       "    <tr>\n",
       "      <th>10</th>\n",
       "      <td>3</td>\n",
       "      <td>W. Keeper</td>\n",
       "      <td>700000.000</td>\n",
       "      <td>520178.571</td>\n",
       "      <td>0.346</td>\n",
       "    </tr>\n",
       "  </tbody>\n",
       "</table>\n",
       "</div>"
      ],
      "text/plain": [
       "    AGE PLAYING ROLE  SOLD_PRICE_AGE_ROLE  SOLD_PRICE_AGE  change\n",
       "0     1   Allrounder           587500.000      720250.000  -0.184\n",
       "1     1      Batsman          1110000.000      720250.000   0.541\n",
       "2     1       Bowler           517714.286      720250.000  -0.281\n",
       "3     2   Allrounder           449400.000      484534.884  -0.073\n",
       "4     2      Batsman           654761.905      484534.884   0.351\n",
       "5     2       Bowler           397931.034      484534.884  -0.179\n",
       "6     2    W. Keeper           467727.273      484534.884  -0.035\n",
       "7     3   Allrounder           766666.667      520178.571   0.474\n",
       "8     3      Batsman           457692.308      520178.571  -0.120\n",
       "9     3       Bowler           414375.000      520178.571  -0.203\n",
       "10    3    W. Keeper           700000.000      520178.571   0.346"
      ]
     },
     "execution_count": 49,
     "metadata": {},
     "output_type": "execute_result"
    }
   ],
   "source": [
    "soldprice_comparison"
   ]
  },
  {
   "cell_type": "markdown",
   "metadata": {},
   "source": [
    "### Filtering Records from Dataframe based on conditions"
   ]
  },
  {
   "cell_type": "code",
   "execution_count": 50,
   "metadata": {},
   "outputs": [
    {
     "data": {
      "text/html": [
       "<div>\n",
       "<style scoped>\n",
       "    .dataframe tbody tr th:only-of-type {\n",
       "        vertical-align: middle;\n",
       "    }\n",
       "\n",
       "    .dataframe tbody tr th {\n",
       "        vertical-align: top;\n",
       "    }\n",
       "\n",
       "    .dataframe thead th {\n",
       "        text-align: right;\n",
       "    }\n",
       "</style>\n",
       "<table border=\"1\" class=\"dataframe\">\n",
       "  <thead>\n",
       "    <tr style=\"text-align: right;\">\n",
       "      <th></th>\n",
       "      <th>PLAYER NAME</th>\n",
       "      <th>SIXERS</th>\n",
       "    </tr>\n",
       "  </thead>\n",
       "  <tbody>\n",
       "    <tr>\n",
       "      <th>26</th>\n",
       "      <td>Gayle, CH</td>\n",
       "      <td>129</td>\n",
       "    </tr>\n",
       "    <tr>\n",
       "      <th>28</th>\n",
       "      <td>Gilchrist, AC</td>\n",
       "      <td>86</td>\n",
       "    </tr>\n",
       "    <tr>\n",
       "      <th>82</th>\n",
       "      <td>Pathan, YK</td>\n",
       "      <td>81</td>\n",
       "    </tr>\n",
       "    <tr>\n",
       "      <th>88</th>\n",
       "      <td>Raina, SK</td>\n",
       "      <td>97</td>\n",
       "    </tr>\n",
       "    <tr>\n",
       "      <th>97</th>\n",
       "      <td>Sharma, RG</td>\n",
       "      <td>82</td>\n",
       "    </tr>\n",
       "  </tbody>\n",
       "</table>\n",
       "</div>"
      ],
      "text/plain": [
       "      PLAYER NAME  SIXERS\n",
       "26      Gayle, CH     129\n",
       "28  Gilchrist, AC      86\n",
       "82     Pathan, YK      81\n",
       "88      Raina, SK      97\n",
       "97     Sharma, RG      82"
      ]
     },
     "execution_count": 50,
     "metadata": {},
     "output_type": "execute_result"
    }
   ],
   "source": [
    "# Which players have hit more then 80 sixes in the IPL tournament so far?\n",
    "ipl_auction_df[ipl_auction_df['SIXERS'] > 80 ][['PLAYER NAME', 'SIXERS']]"
   ]
  },
  {
   "cell_type": "code",
   "execution_count": 52,
   "metadata": {},
   "outputs": [],
   "source": [
    "# Removing a column\n",
    "ipl_auction_df.drop( 'Sl.NO.', inplace = True, axis = 1)"
   ]
  },
  {
   "cell_type": "code",
   "execution_count": 53,
   "metadata": {},
   "outputs": [
    {
     "data": {
      "text/plain": [
       "Index(['PLAYER NAME', 'AGE', 'COUNTRY', 'TEAM', 'PLAYING ROLE', 'T-RUNS',\n",
       "       'T-WKTS', 'ODI-RUNS-S', 'ODI-SR-B', 'ODI-WKTS', 'ODI-SR-BL',\n",
       "       'CAPTAINCY EXP', 'RUNS-S', 'HS', 'AVE', 'SR-B', 'SIXERS', 'RUNS-C',\n",
       "       'WKTS', 'AVE-BL', 'ECON', 'SR-BL', 'AUCTION YEAR', 'BASE PRICE',\n",
       "       'SOLD PRICE', 'premium'],\n",
       "      dtype='object')"
      ]
     },
     "execution_count": 53,
     "metadata": {},
     "output_type": "execute_result"
    }
   ],
   "source": [
    "ipl_auction_df.columns"
   ]
  },
  {
   "cell_type": "markdown",
   "metadata": {},
   "source": [
    "## Dealing With Missing Values"
   ]
  },
  {
   "cell_type": "code",
   "execution_count": 57,
   "metadata": {},
   "outputs": [
    {
     "data": {
      "text/html": [
       "<div>\n",
       "<style scoped>\n",
       "    .dataframe tbody tr th:only-of-type {\n",
       "        vertical-align: middle;\n",
       "    }\n",
       "\n",
       "    .dataframe tbody tr th {\n",
       "        vertical-align: top;\n",
       "    }\n",
       "\n",
       "    .dataframe thead th {\n",
       "        text-align: right;\n",
       "    }\n",
       "</style>\n",
       "<table border=\"1\" class=\"dataframe\">\n",
       "  <thead>\n",
       "    <tr style=\"text-align: right;\">\n",
       "      <th></th>\n",
       "      <th>mpg</th>\n",
       "      <th>cylinders</th>\n",
       "      <th>displacement</th>\n",
       "      <th>...</th>\n",
       "      <th>year</th>\n",
       "      <th>origin</th>\n",
       "      <th>name</th>\n",
       "    </tr>\n",
       "  </thead>\n",
       "  <tbody>\n",
       "    <tr>\n",
       "      <th>0</th>\n",
       "      <td>18.000</td>\n",
       "      <td>8</td>\n",
       "      <td>307.000</td>\n",
       "      <td>...</td>\n",
       "      <td>70</td>\n",
       "      <td>1</td>\n",
       "      <td>chevrolet chevelle malibu</td>\n",
       "    </tr>\n",
       "    <tr>\n",
       "      <th>1</th>\n",
       "      <td>15.000</td>\n",
       "      <td>8</td>\n",
       "      <td>350.000</td>\n",
       "      <td>...</td>\n",
       "      <td>70</td>\n",
       "      <td>1</td>\n",
       "      <td>buick skylark 320</td>\n",
       "    </tr>\n",
       "    <tr>\n",
       "      <th>2</th>\n",
       "      <td>18.000</td>\n",
       "      <td>8</td>\n",
       "      <td>318.000</td>\n",
       "      <td>...</td>\n",
       "      <td>70</td>\n",
       "      <td>1</td>\n",
       "      <td>plymouth satellite</td>\n",
       "    </tr>\n",
       "    <tr>\n",
       "      <th>3</th>\n",
       "      <td>16.000</td>\n",
       "      <td>8</td>\n",
       "      <td>304.000</td>\n",
       "      <td>...</td>\n",
       "      <td>70</td>\n",
       "      <td>1</td>\n",
       "      <td>amc rebel sst</td>\n",
       "    </tr>\n",
       "    <tr>\n",
       "      <th>4</th>\n",
       "      <td>17.000</td>\n",
       "      <td>8</td>\n",
       "      <td>302.000</td>\n",
       "      <td>...</td>\n",
       "      <td>70</td>\n",
       "      <td>1</td>\n",
       "      <td>ford torino</td>\n",
       "    </tr>\n",
       "  </tbody>\n",
       "</table>\n",
       "<p>5 rows × 9 columns</p>\n",
       "</div>"
      ],
      "text/plain": [
       "     mpg  cylinders  displacement  ... year  origin                       name\n",
       "0 18.000          8       307.000  ...   70       1  chevrolet chevelle malibu\n",
       "1 15.000          8       350.000  ...   70       1          buick skylark 320\n",
       "2 18.000          8       318.000  ...   70       1         plymouth satellite\n",
       "3 16.000          8       304.000  ...   70       1              amc rebel sst\n",
       "4 17.000          8       302.000  ...   70       1                ford torino\n",
       "\n",
       "[5 rows x 9 columns]"
      ]
     },
     "execution_count": 57,
     "metadata": {},
     "output_type": "execute_result"
    }
   ],
   "source": [
    "autos = pd.read_csv( 'auto.csv')\n",
    "autos.head( 5 )"
   ]
  },
  {
   "cell_type": "code",
   "execution_count": 58,
   "metadata": {},
   "outputs": [
    {
     "name": "stdout",
     "output_type": "stream",
     "text": [
      "<class 'pandas.core.frame.DataFrame'>\n",
      "RangeIndex: 397 entries, 0 to 396\n",
      "Data columns (total 9 columns):\n",
      " #   Column        Non-Null Count  Dtype  \n",
      "---  ------        --------------  -----  \n",
      " 0   mpg           397 non-null    float64\n",
      " 1   cylinders     397 non-null    int64  \n",
      " 2   displacement  397 non-null    float64\n",
      " 3   horsepower    397 non-null    object \n",
      " 4   weight        397 non-null    int64  \n",
      " 5   acceleration  397 non-null    float64\n",
      " 6   year          397 non-null    int64  \n",
      " 7   origin        397 non-null    int64  \n",
      " 8   name          397 non-null    object \n",
      "dtypes: float64(3), int64(4), object(2)\n",
      "memory usage: 28.0+ KB\n"
     ]
    }
   ],
   "source": [
    "autos.info()"
   ]
  },
  {
   "cell_type": "code",
   "execution_count": null,
   "metadata": {},
   "outputs": [],
   "source": []
  }
 ],
 "metadata": {
  "kernelspec": {
   "display_name": "Python 3",
   "language": "python",
   "name": "python3"
  },
  "language_info": {
   "codemirror_mode": {
    "name": "ipython",
    "version": 3
   },
   "file_extension": ".py",
   "mimetype": "text/x-python",
   "name": "python",
   "nbconvert_exporter": "python",
   "pygments_lexer": "ipython3",
   "version": "3.7.6"
  }
 },
 "nbformat": 4,
 "nbformat_minor": 4
}
